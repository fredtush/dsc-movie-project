{
  "nbformat": 4,
  "nbformat_minor": 0,
  "metadata": {
    "colab": {
      "name": "Prac.ipynb",
      "provenance": [],
      "authorship_tag": "ABX9TyNw8P+JxUesRw93jRMyD1K/",
      "include_colab_link": true
    },
    "kernelspec": {
      "name": "python3",
      "display_name": "Python 3"
    },
    "language_info": {
      "name": "python"
    }
  },
  "cells": [
    {
      "cell_type": "markdown",
      "metadata": {
        "id": "view-in-github",
        "colab_type": "text"
      },
      "source": [
        "<a href=\"https://colab.research.google.com/github/fredtush/dsc-movie-project/blob/Fred/Prac.ipynb\" target=\"_parent\"><img src=\"https://colab.research.google.com/assets/colab-badge.svg\" alt=\"Open In Colab\"/></a>"
      ]
    },
    {
      "cell_type": "code",
      "execution_count": 1,
      "metadata": {
        "colab": {
          "base_uri": "https://localhost:8080/"
        },
        "id": "Wb63QaOquNFs",
        "outputId": "4994d739-3e78-45b2-ac34-1d1f579bc01f"
      },
      "outputs": [
        {
          "output_type": "stream",
          "name": "stdout",
          "text": [
            "Rachael Business and data understanding\n"
          ]
        }
      ],
      "source": [
        "print(\"Rachael Business and data understanding\")"
      ]
    },
    {
      "cell_type": "code",
      "source": [],
      "metadata": {
        "id": "npLUMPDMukPY"
      },
      "execution_count": null,
      "outputs": []
    }
  ]
}